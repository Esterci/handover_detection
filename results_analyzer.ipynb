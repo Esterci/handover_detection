{
 "cells": [
  {
   "cell_type": "code",
   "execution_count": 2,
   "metadata": {},
   "outputs": [],
   "source": [
    "import numpy as np\n",
    "import matplotlib.pyplot as plt\n",
    "from scipy import stats\n",
    "from utils import ProgBar, ResultFormarter\n",
    "import pandas as pd\n",
    "import pickle as pk"
   ]
  },
  {
   "cell_type": "code",
   "execution_count": 5,
   "metadata": {},
   "outputs": [],
   "source": [
    "constructor = ResultFormarter()\n"
   ]
  },
  {
   "cell_type": "code",
   "execution_count": 11,
   "metadata": {},
   "outputs": [],
   "source": [
    "results_dict = constructor.get_results()\n"
   ]
  },
  {
   "cell_type": "code",
   "execution_count": 9,
   "metadata": {},
   "outputs": [
    {
     "data": {
      "text/plain": [
       "6.0"
      ]
     },
     "execution_count": 9,
     "metadata": {},
     "output_type": "execute_result"
    }
   ],
   "source": [
    "import glob\n",
    "len(glob.glob('Results/*'))/11"
   ]
  },
  {
   "cell_type": "code",
   "execution_count": 12,
   "metadata": {},
   "outputs": [
    {
     "name": "stdout",
     "output_type": "stream",
     "text": [
      "Calculing PDFs...\n",
      "[--------------------------------------------------] 100.00% - 6 of 6"
     ]
    }
   ],
   "source": [
    "bar = ProgBar(6, \"Calculing PDFs...\")\n",
    "\n",
    "for batch_size in results_dict:\n",
    "    for encoding_dim in results_dict[batch_size]:\n",
    "        for time_step in results_dict[batch_size][encoding_dim]:\n",
    "            RMSE = results_dict[batch_size][encoding_dim][time_step][:, 0]\n",
    "            Target = results_dict[batch_size][encoding_dim][time_step][:, 1]\n",
    "\n",
    "            # getting attributes values\n",
    "\n",
    "            att_background = RMSE[Target == 0]\n",
    "\n",
    "            att_signal = RMSE[Target == 1]\n",
    "\n",
    "            # computing the attribute distribution\n",
    "\n",
    "            bg_kernel = stats.gaussian_kde(att_background)\n",
    "\n",
    "            sg_kernel = stats.gaussian_kde(att_signal)\n",
    "\n",
    "            # defining attributes limits\n",
    "\n",
    "            bg_max = max(att_background)\n",
    "\n",
    "            bg_min = min(att_background)\n",
    "\n",
    "            sg_max = max(att_signal)\n",
    "\n",
    "            sg_min = min(att_signal)\n",
    "\n",
    "            # creating values interval for time optimization\n",
    "\n",
    "            bg_eval = np.linspace(bg_min, bg_max, num=200)\n",
    "\n",
    "            sg_eval = np.linspace(sg_min, sg_max, num=200)\n",
    "\n",
    "            eval = np.hstack((bg_eval, sg_eval))\n",
    "\n",
    "            # calculating the likelyhood with kde kernel\n",
    "\n",
    "            bg_likelyhood = bg_kernel(bg_eval)\n",
    "\n",
    "            sg_likelyhood = sg_kernel(sg_eval)\n",
    "\n",
    "            distribution_data = np.hstack((bg_likelyhood, sg_likelyhood))\n",
    "\n",
    "            # creating distribution targets\n",
    "\n",
    "            new_target = np.zeros(len(distribution_data))\n",
    "\n",
    "            new_target[200:] = 1\n",
    "\n",
    "            target_names = []\n",
    "\n",
    "            for tg in new_target:\n",
    "                if tg == 0:\n",
    "                    target_names.append(\"Anomalia\")\n",
    "\n",
    "                else:\n",
    "                    target_names.append(\"Normal\")\n",
    "\n",
    "            results_dict[batch_size][encoding_dim][time_step] = pd.DataFrame(\n",
    "                data=np.vstack((distribution_data, target_names, eval)).T,\n",
    "                columns=[\"likelyhood\", \"target\", \"RMSE\"],\n",
    "            )\n",
    "\n",
    "            bar.update()\n",
    "\n",
    "with open(\"plotly_seed.pkl\", \"wb\") as f:\n",
    "    pk.dump(results_dict, f)\n"
   ]
  },
  {
   "cell_type": "code",
   "execution_count": null,
   "metadata": {},
   "outputs": [],
   "source": [
    "bg_eval_list = []\n",
    "\n",
    "sg_eval_list = []\n",
    "\n",
    "size_scaler = 8\n",
    "\n",
    "fig = plt.figure(figsize= (6.1 * size_scaler, 2.5 * size_scaler))\n",
    "\n",
    "ax = fig.subplots(6,5)\n",
    "\n",
    "fig.suptitle('Probaility Distribution Function of the RMSE for different parameters', fontsize=16)\n",
    "\n",
    "bar = ProgBar(30,\"Calculing PDFs...\")\n",
    "\n",
    "i = 0\n",
    "\n",
    "for batch_size in results_dict:\n",
    "    for encoding_dim in results_dict[batch_size]:\n",
    "        RMSE = results_dict[batch_size][encoding_dim][:,0]\n",
    "        Target = results_dict[batch_size][encoding_dim][:,1]\n",
    "\n",
    "        # getting attributes values\n",
    "\n",
    "        att_background = RMSE[Target==0]\n",
    "\n",
    "        att_signal = RMSE[Target==1]\n",
    "\n",
    "        # computing the attribute distribution\n",
    "\n",
    "        bg_kernel = stats.gaussian_kde(att_background)\n",
    "\n",
    "        sg_kernel = stats.gaussian_kde(att_signal)\n",
    "\n",
    "        # defining attributes limits\n",
    "\n",
    "        bg_max = max(att_background)\n",
    "\n",
    "        bg_min = min(att_background)\n",
    "\n",
    "        sg_max = max(att_signal)\n",
    "\n",
    "        sg_min = min(att_signal)\n",
    "\n",
    "        # creating values interval for time optimization\n",
    "\n",
    "        bg_eval = np.linspace(bg_min,bg_max,num=50)\n",
    "\n",
    "        sg_eval = np.linspace(sg_min,sg_max,num=50)\n",
    "\n",
    "\n",
    "        # appending values interval the following analysis\n",
    "\n",
    "        bg_eval_list.append(bg_eval)\n",
    "\n",
    "        sg_eval_list.append(sg_eval)\n",
    "\n",
    "        # calculating the likelyhood with kde kernel\n",
    "\n",
    "        bg_likelyhood = bg_kernel(bg_eval)\n",
    "\n",
    "        sg_likelyhood = sg_kernel(sg_eval)\n",
    "\n",
    "        # defining plot locationg\n",
    "\n",
    "        line = int(i//5)\n",
    "\n",
    "        col = int(i%5)\n",
    "\n",
    "        # ploting results\n",
    "\n",
    "        ax[line,col].plot(bg_eval, bg_likelyhood, \n",
    "                ms=3.5, linestyle='-',\n",
    "                label= 'Normal')\n",
    "\n",
    "        ax[line,col].plot(sg_eval, sg_likelyhood, \n",
    "                ms=3.5, linestyle='-',\n",
    "                label= 'Anomaly')\n",
    "        ax[line,col].legend()\n",
    "        ax[line,col].set_title(\"batch_size: \" + batch_size + ', ' + 'encoding_dim: ' + encoding_dim)\n",
    "        ax[line,col].set_xlabel(\"RMSE\")\n",
    "        ax[line,col].set_ylabel(\"Likelyhood\")\n",
    "        ax[line,col].grid()\n",
    "\n",
    "        i += 1\n",
    "\n",
    "        bar.update()\n",
    "\n",
    "fig.tight_layout(pad=3.0)\n",
    "\n",
    "plt.savefig('Figures/MLP-RMSE-PDF.png',format='png')\n",
    "\n",
    "del fig"
   ]
  },
  {
   "cell_type": "code",
   "execution_count": null,
   "metadata": {},
   "outputs": [],
   "source": [
    "import glob\n",
    "\n",
    "results_list = glob.glob('LSTM_hyperparameters_study/Results/*')"
   ]
  },
  {
   "cell_type": "code",
   "execution_count": null,
   "metadata": {},
   "outputs": [],
   "source": [
    "import argparse\n",
    "\n",
    "parser = argparse.ArgumentParser(description = '', add_help = False)\n",
    "parser = argparse.ArgumentParser()\n",
    "\n",
    "\n",
    "parser.add_argument('-b','--batch_size', action='store',\n",
    "        dest='batch_size',\n",
    "            help = \"Batch size.\")\n",
    "\n",
    "parser.add_argument('-e','--encoding_dim', action='store',\n",
    "        dest='encoding_dim', default = None,\n",
    "            help = \"Number o neurons in the first layer.\")\n",
    "\n",
    "parser.add_argument('-t','--time_step', action='store',\n",
    "        dest='time_step', default = None,\n",
    "            help = \"Number of time instances to use.\")\n",
    "\n",
    "parser.add_argument('-f','--file', action='store',\n",
    "        dest='file', default = None,\n",
    "            help = \"The subset file.\")\n",
    "\n",
    "args = parser.parse_args()"
   ]
  },
  {
   "cell_type": "code",
   "execution_count": null,
   "metadata": {},
   "outputs": [],
   "source": [
    "var_dict = vars(args)\n",
    "\n",
    "var_dict"
   ]
  },
  {
   "cell_type": "code",
   "execution_count": null,
   "metadata": {},
   "outputs": [],
   "source": [
    "def \n",
    "    results_files = glob.glob(\"LSTM_hyperparameters_study/Results/*\")\n",
    "    results_list = [result.split(\"/\")[-1].split(\".\")[0] for result in results_files]\n",
    "\n",
    "    results_dict = {}\n",
    "\n",
    "    for result in results_list:\n",
    "        result_tuples = result.split('__')\n",
    "        for tuple in result_tuples:\n",
    "            hyperparameter, value = tuple.split('--')\n",
    "\n",
    "            if not results_dict:\n",
    "                results_dict[hyperparameter] = {}\n",
    "\n",
    "                if not results_dict[hyperparameter]:\n",
    "                    results_dict[hyperparameter] = {}\n",
    "\n",
    "                    return results_dict\n",
    "\n",
    "\n",
    "            print(hyperparameter, value)\n",
    "\n"
   ]
  },
  {
   "cell_type": "code",
   "execution_count": 3,
   "metadata": {},
   "outputs": [],
   "source": [
    "df = pd.read_csv(\"data_base/concatbases.csv\")"
   ]
  },
  {
   "cell_type": "code",
   "execution_count": 4,
   "metadata": {},
   "outputs": [
    {
     "data": {
      "text/plain": [
       "(1151700, 51)"
      ]
     },
     "execution_count": 4,
     "metadata": {},
     "output_type": "execute_result"
    }
   ],
   "source": [
    "df.shape"
   ]
  },
  {
   "cell_type": "code",
   "execution_count": null,
   "metadata": {},
   "outputs": [],
   "source": []
  }
 ],
 "metadata": {
  "interpreter": {
   "hash": "1bd8572c472e4381368e4a3d2fe8a7710e92cd93203344516ab3a3cb8400177a"
  },
  "kernelspec": {
   "display_name": "Python 3.7.11 ('CNPq-3.7')",
   "language": "python",
   "name": "python3"
  },
  "language_info": {
   "codemirror_mode": {
    "name": "ipython",
    "version": 3
   },
   "file_extension": ".py",
   "mimetype": "text/x-python",
   "name": "python",
   "nbconvert_exporter": "python",
   "pygments_lexer": "ipython3",
   "version": "3.7.11"
  },
  "orig_nbformat": 4
 },
 "nbformat": 4,
 "nbformat_minor": 2
}
