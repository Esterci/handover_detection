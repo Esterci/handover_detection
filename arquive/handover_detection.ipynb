{
 "cells": [
  {
   "cell_type": "markdown",
   "id": "oriented-startup",
   "metadata": {},
   "source": [
    "# Implementation of Anomaly detection using Autoencoders\n",
    "Dataset used here is Credit Card Fraud Detection from Kaggle.\n",
    "\n",
    "### Import required libraries"
   ]
  },
  {
   "cell_type": "code",
   "execution_count": 1,
   "id": "earlier-conservative",
   "metadata": {},
   "outputs": [],
   "source": [
    "import pandas as pd\n",
    "import numpy as np\n",
    "import matplotlib.pyplot as plt\n",
    "import seaborn as sns\n",
    "import tensorflow as tf\n",
    "from sklearn.model_selection import train_test_split\n",
    "from sklearn.preprocessing import MinMaxScaler\n",
    "from sklearn.metrics import confusion_matrix, recall_score, accuracy_score, precision_score\n",
    "from tensorflow.keras.layers import LSTM, Dropout, RepeatVector,TimeDistributed, Dense\n",
    "RANDOM_SEED = 2021 \n",
    "TEST_PCT = 0.3\n",
    "LABELS = [\"Normal\",\"Fraud\"]"
   ]
  },
  {
   "cell_type": "markdown",
   "id": "alert-niger",
   "metadata": {},
   "source": [
    "### Read the dataset"
   ]
  },
  {
   "cell_type": "code",
   "execution_count": 2,
   "id": "secure-surgeon",
   "metadata": {},
   "outputs": [],
   "source": [
    "dataset = pd.read_csv(\"../classification_base.csv\")"
   ]
  },
  {
   "cell_type": "markdown",
   "id": "silent-wealth",
   "metadata": {},
   "source": [
    "# Exploratory Data Analysis"
   ]
  },
  {
   "cell_type": "code",
   "execution_count": 3,
   "id": "medium-incidence",
   "metadata": {},
   "outputs": [
    {
     "data": {
      "text/html": [
       "<div>\n",
       "<style scoped>\n",
       "    .dataframe tbody tr th:only-of-type {\n",
       "        vertical-align: middle;\n",
       "    }\n",
       "\n",
       "    .dataframe tbody tr th {\n",
       "        vertical-align: top;\n",
       "    }\n",
       "\n",
       "    .dataframe thead th {\n",
       "        text-align: right;\n",
       "    }\n",
       "</style>\n",
       "<table border=\"1\" class=\"dataframe\">\n",
       "  <thead>\n",
       "    <tr style=\"text-align: right;\">\n",
       "      <th></th>\n",
       "      <th>0</th>\n",
       "      <th>1</th>\n",
       "      <th>2</th>\n",
       "      <th>3</th>\n",
       "      <th>4</th>\n",
       "      <th>5</th>\n",
       "      <th>6</th>\n",
       "      <th>7</th>\n",
       "      <th>8</th>\n",
       "      <th>9</th>\n",
       "      <th>label</th>\n",
       "    </tr>\n",
       "  </thead>\n",
       "  <tbody>\n",
       "    <tr>\n",
       "      <th>0</th>\n",
       "      <td>-98.817757</td>\n",
       "      <td>-98.341583</td>\n",
       "      <td>-98.567963</td>\n",
       "      <td>-99.414879</td>\n",
       "      <td>-99.882919</td>\n",
       "      <td>-100.748825</td>\n",
       "      <td>-100.098091</td>\n",
       "      <td>-97.053093</td>\n",
       "      <td>-94.340988</td>\n",
       "      <td>-92.800385</td>\n",
       "      <td>0.0</td>\n",
       "    </tr>\n",
       "    <tr>\n",
       "      <th>1</th>\n",
       "      <td>-98.341583</td>\n",
       "      <td>-98.567963</td>\n",
       "      <td>-99.414879</td>\n",
       "      <td>-99.882919</td>\n",
       "      <td>-100.748825</td>\n",
       "      <td>-100.098091</td>\n",
       "      <td>-97.053093</td>\n",
       "      <td>-94.340988</td>\n",
       "      <td>-92.800385</td>\n",
       "      <td>-93.778336</td>\n",
       "      <td>0.0</td>\n",
       "    </tr>\n",
       "    <tr>\n",
       "      <th>2</th>\n",
       "      <td>-98.567963</td>\n",
       "      <td>-99.414879</td>\n",
       "      <td>-99.882919</td>\n",
       "      <td>-100.748825</td>\n",
       "      <td>-100.098091</td>\n",
       "      <td>-97.053093</td>\n",
       "      <td>-94.340988</td>\n",
       "      <td>-92.800385</td>\n",
       "      <td>-93.778336</td>\n",
       "      <td>-97.189964</td>\n",
       "      <td>0.0</td>\n",
       "    </tr>\n",
       "    <tr>\n",
       "      <th>3</th>\n",
       "      <td>-99.414879</td>\n",
       "      <td>-99.882919</td>\n",
       "      <td>-100.748825</td>\n",
       "      <td>-100.098091</td>\n",
       "      <td>-97.053093</td>\n",
       "      <td>-94.340988</td>\n",
       "      <td>-92.800385</td>\n",
       "      <td>-93.778336</td>\n",
       "      <td>-97.189964</td>\n",
       "      <td>-99.659119</td>\n",
       "      <td>0.0</td>\n",
       "    </tr>\n",
       "    <tr>\n",
       "      <th>4</th>\n",
       "      <td>-99.882919</td>\n",
       "      <td>-100.748825</td>\n",
       "      <td>-100.098091</td>\n",
       "      <td>-97.053093</td>\n",
       "      <td>-94.340988</td>\n",
       "      <td>-92.800385</td>\n",
       "      <td>-93.778336</td>\n",
       "      <td>-97.189964</td>\n",
       "      <td>-99.659119</td>\n",
       "      <td>-100.861809</td>\n",
       "      <td>0.0</td>\n",
       "    </tr>\n",
       "  </tbody>\n",
       "</table>\n",
       "</div>"
      ],
      "text/plain": [
       "           0           1           2           3           4           5  \\\n",
       "0 -98.817757  -98.341583  -98.567963  -99.414879  -99.882919 -100.748825   \n",
       "1 -98.341583  -98.567963  -99.414879  -99.882919 -100.748825 -100.098091   \n",
       "2 -98.567963  -99.414879  -99.882919 -100.748825 -100.098091  -97.053093   \n",
       "3 -99.414879  -99.882919 -100.748825 -100.098091  -97.053093  -94.340988   \n",
       "4 -99.882919 -100.748825 -100.098091  -97.053093  -94.340988  -92.800385   \n",
       "\n",
       "            6          7          8           9  label  \n",
       "0 -100.098091 -97.053093 -94.340988  -92.800385    0.0  \n",
       "1  -97.053093 -94.340988 -92.800385  -93.778336    0.0  \n",
       "2  -94.340988 -92.800385 -93.778336  -97.189964    0.0  \n",
       "3  -92.800385 -93.778336 -97.189964  -99.659119    0.0  \n",
       "4  -93.778336 -97.189964 -99.659119 -100.861809    0.0  "
      ]
     },
     "execution_count": 3,
     "metadata": {},
     "output_type": "execute_result"
    }
   ],
   "source": [
    "dataset.head()"
   ]
  },
  {
   "cell_type": "code",
   "execution_count": 4,
   "id": "downtown-closer",
   "metadata": {},
   "outputs": [
    {
     "name": "stdout",
     "output_type": "stream",
     "text": [
      "Any nulls in the dataset  False\n",
      "-------\n",
      "No. of unique labels  2\n",
      "Label values  [0. 1.]\n",
      "-------\n",
      "Break down of the Normal and Fraud Transactions\n",
      "0.0    191959\n",
      "1.0        31\n",
      "Name: label, dtype: int64\n"
     ]
    }
   ],
   "source": [
    "#check for any  nullvalues \n",
    "print(\"Any nulls in the dataset \",dataset.isnull().values.any() )\n",
    "print('-------')\n",
    "print(\"No. of unique labels \", len(dataset['label'].unique()))\n",
    "print(\"Label values \",dataset.label.unique())\n",
    "#0 is for normal credit card transaction\n",
    "#1 is for fraudulent credit card transaction\n",
    "print('-------')\n",
    "print(\"Break down of the Normal and Fraud Transactions\")\n",
    "print(pd.value_counts(dataset['label'], sort = True) )"
   ]
  },
  {
   "cell_type": "markdown",
   "id": "brutal-mention",
   "metadata": {},
   "source": [
    "### Visualize the dataset\n",
    "plotting the number of normal and fraud transactions in the dataset."
   ]
  },
  {
   "cell_type": "code",
   "execution_count": 5,
   "id": "moral-olympus",
   "metadata": {},
   "outputs": [
    {
     "data": {
      "text/plain": [
       "Text(0, 0.5, 'Number of Observations')"
      ]
     },
     "execution_count": 5,
     "metadata": {},
     "output_type": "execute_result"
    },
    {
     "data": {
      "image/png": "[encoded data removed]",
      "text/plain": [
       "<Figure size 432x288 with 1 Axes>"
      ]
     },
     "metadata": {
      "needs_background": "light"
     },
     "output_type": "display_data"
    }
   ],
   "source": [
    "#Visualizing the imbalanced dataset\n",
    "count_classes = pd.value_counts(dataset['label'], sort = True)\n",
    "count_classes.plot(kind = 'bar', rot=0)\n",
    "plt.xticks(range(len(dataset['label'].unique())), dataset.label.unique())\n",
    "plt.title(\"Frequency by observation number\")\n",
    "plt.xlabel(\"Class\")\n",
    "plt.ylabel(\"Number of Observations\")"
   ]
  },
  {
   "cell_type": "markdown",
   "id": "classified-tissue",
   "metadata": {},
   "source": [
    "### Create train and test dataset\n",
    "Normalizing data set"
   ]
  },
  {
   "cell_type": "code",
   "execution_count": 6,
   "id": "0039711f",
   "metadata": {},
   "outputs": [
    {
     "data": {
      "text/plain": [
       "Text(0, 0.5, 'value')"
      ]
     },
     "execution_count": 6,
     "metadata": {},
     "output_type": "execute_result"
    },
    {
     "data": {
      "image/png": "[encoded data removed]",
      "text/plain": [
       "<Figure size 432x288 with 1 Axes>"
      ]
     },
     "metadata": {
      "needs_background": "light"
     },
     "output_type": "display_data"
    }
   ],
   "source": [
    "raw_data = dataset.values\n",
    "# The last element contains if the transaction is normal which is represented by a 0 and if fraud then 1\n",
    "labels = raw_data[:, -1]\n",
    "# The other data points are the electrocadriogram data\n",
    "data = raw_data[:, 0:-1]\n",
    "\n",
    "data = data.T\n",
    "\n",
    "sc=MinMaxScaler(feature_range=(0,1))\n",
    "\n",
    "data = sc.fit_transform(data)\n",
    "\n",
    "data = data.T\n",
    "\n",
    "plt.plot([0,1,2,3,4,5,6,7,8,9],data[0,:])\n",
    "plt.title(\"Example of normalized time serie\")\n",
    "plt.xlabel(\"measure\")\n",
    "plt.ylabel(\"value\")"
   ]
  },
  {
   "cell_type": "markdown",
   "id": "06b81073",
   "metadata": {},
   "source": [
    "# Dividing train and test subsets"
   ]
  },
  {
   "cell_type": "code",
   "execution_count": 7,
   "id": "9be396ee",
   "metadata": {},
   "outputs": [],
   "source": [
    "train_data, test_data, train_labels, test_labels = train_test_split(\n",
    "    data, labels, test_size=0.3, random_state=2021, stratify=labels\n",
    ")"
   ]
  },
  {
   "cell_type": "markdown",
   "id": "mexican-commission",
   "metadata": {},
   "source": [
    "> Use only normal transactions to train the Autoencoder.\n",
    "\n",
    "Normal data has a value of 0 in the target variable. Using the target variable to create a normal and fraud dataset."
   ]
  },
  {
   "cell_type": "code",
   "execution_count": 8,
   "id": "injured-drunk",
   "metadata": {},
   "outputs": [
    {
     "name": "stdout",
     "output_type": "stream",
     "text": [
      " No. of records in Fraud Train Data= 22\n",
      " No. of records in Normal Train data= 134371\n",
      " No. of records in Fraud Test Data= 9\n",
      " No. of records in Normal Test data= 57588\n"
     ]
    }
   ],
   "source": [
    "train_labels = train_labels.astype(bool)\n",
    "test_labels = test_labels.astype(bool)\n",
    "#creating normal and fraud datasets\n",
    "normal_train_data = train_data[~train_labels]\n",
    "normal_test_data = test_data[~test_labels]\n",
    "fraud_train_data = train_data[train_labels]\n",
    "fraud_test_data = test_data[test_labels]\n",
    "print(\" No. of records in Fraud Train Data=\",len(fraud_train_data))\n",
    "print(\" No. of records in Normal Train data=\",len(normal_train_data))\n",
    "print(\" No. of records in Fraud Test Data=\",len(fraud_test_data))\n",
    "print(\" No. of records in Normal Test data=\",len(normal_test_data))\n",
    "\n",
    "normal_train_data = normal_train_data.reshape(\n",
    "    normal_train_data.shape[0],\n",
    "    normal_train_data.shape[1],\n",
    "    1\n",
    ")\n",
    "\n",
    "test_data = test_data.reshape(\n",
    "    test_data.shape[0],\n",
    "    test_data.shape[1],\n",
    "    1\n",
    ")"
   ]
  },
  {
   "cell_type": "markdown",
   "id": "thrown-marketing",
   "metadata": {},
   "source": [
    "### Set the training parameter values"
   ]
  },
  {
   "cell_type": "code",
   "execution_count": 9,
   "id": "adapted-thing",
   "metadata": {},
   "outputs": [],
   "source": [
    "nb_epoch = 10\n",
    "batch_size = 64\n",
    "timesteps = normal_train_data.shape[1] #num of columns, 30\n",
    "n_features = 1\n",
    "encoding_dim = 8\n",
    "hidden_dim_1 = int(encoding_dim / 2) #\n",
    "hidden_dim_2=2\n",
    "learning_rate = 1e-7"
   ]
  },
  {
   "cell_type": "markdown",
   "id": "likely-minority",
   "metadata": {},
   "source": [
    "### Create the Autoencoder\n",
    "The architecture of the autoencoder is shown below.\n",
    "\n",
    "![esquema](autoencoder.png)"
   ]
  },
  {
   "cell_type": "code",
   "execution_count": 11,
   "id": "4af1cdb5",
   "metadata": {},
   "outputs": [
    {
     "name": "stderr",
     "output_type": "stream",
     "text": [
      "2022-04-04 19:58:12.324034: I tensorflow/core/platform/cpu_feature_guard.cc:142] This TensorFlow binary is optimized with oneAPI Deep Neural Network Library (oneDNN) to use the following CPU instructions in performance-critical operations:  SSE4.1 SSE4.2 AVX AVX2 FMA\n",
      "To enable them in other operations, rebuild TensorFlow with the appropriate compiler flags.\n",
      "2022-04-04 19:58:12.326083: I tensorflow/core/common_runtime/process_util.cc:146] Creating new thread pool with default inter op setting: 2. Tune using inter_op_parallelism_threads for best performance.\n"
     ]
    },
    {
     "name": "stdout",
     "output_type": "stream",
     "text": [
      "Model: \"sequential\"\n",
      "_________________________________________________________________\n",
      "Layer (type)                 Output Shape              Param #   \n",
      "=================================================================\n",
      "lstm (LSTM)                  (None, 10, 128)           66560     \n",
      "_________________________________________________________________\n",
      "dropout (Dropout)            (None, 10, 128)           0         \n",
      "_________________________________________________________________\n",
      "lstm_1 (LSTM)                (None, 64)                49408     \n",
      "_________________________________________________________________\n",
      "repeat_vector (RepeatVector) (None, 10, 64)            0         \n",
      "_________________________________________________________________\n",
      "lstm_2 (LSTM)                (None, 10, 64)            33024     \n",
      "_________________________________________________________________\n",
      "dropout_1 (Dropout)          (None, 10, 64)            0         \n",
      "_________________________________________________________________\n",
      "lstm_3 (LSTM)                (None, 10, 128)           98816     \n",
      "_________________________________________________________________\n",
      "time_distributed (TimeDistri (None, 10, 1)             129       \n",
      "=================================================================\n",
      "Total params: 247,937\n",
      "Trainable params: 247,937\n",
      "Non-trainable params: 0\n",
      "_________________________________________________________________\n"
     ]
    }
   ],
   "source": [
    "autoencoder = tf.keras.Sequential()\n",
    "autoencoder.add(LSTM(128, activation='relu', input_shape=(timesteps,n_features), return_sequences=True))\n",
    "autoencoder.add(Dropout(0.2))\n",
    "autoencoder.add(LSTM(64, activation='relu', return_sequences=False))\n",
    "autoencoder.add(RepeatVector(timesteps))\n",
    "autoencoder.add(LSTM(64, activation='relu', return_sequences=True))\n",
    "autoencoder.add(Dropout(0.2))\n",
    "autoencoder.add(LSTM(128, activation='relu', return_sequences=True))\n",
    "autoencoder.add(TimeDistributed(Dense(n_features)))\n",
    "autoencoder.compile(optimizer='adam', loss='mse')\n",
    "autoencoder.summary()"
   ]
  },
  {
   "cell_type": "markdown",
   "id": "executed-smell",
   "metadata": {},
   "source": [
    "### Define the callbacks for checkpoints and early stopping"
   ]
  },
  {
   "cell_type": "code",
   "execution_count": 12,
   "id": "focal-elite",
   "metadata": {},
   "outputs": [],
   "source": [
    "cp = tf.keras.callbacks.ModelCheckpoint(filepath=\"autoencoder_fraud.h5\",\n",
    "                               mode='min', monitor='val_loss', verbose=2, save_best_only=True)\n",
    "# define our early stopping\n",
    "early_stop = tf.keras.callbacks.EarlyStopping(\n",
    "    monitor='val_loss',\n",
    "    min_delta=0.0001,\n",
    "    patience=10,\n",
    "    verbose=1, \n",
    "    mode='min',\n",
    "    restore_best_weights=True\n",
    ")"
   ]
  },
  {
   "cell_type": "markdown",
   "id": "increasing-chick",
   "metadata": {},
   "source": [
    "### Compile the Autoencoder"
   ]
  },
  {
   "cell_type": "code",
   "execution_count": 13,
   "id": "subsequent-poison",
   "metadata": {},
   "outputs": [],
   "source": [
    "autoencoder.compile(metrics=['accuracy'],\n",
    "                    loss='mean_squared_error',\n",
    "                    optimizer='adam')"
   ]
  },
  {
   "cell_type": "markdown",
   "id": "continued-parking",
   "metadata": {},
   "source": [
    "### Train the Autoencoder"
   ]
  },
  {
   "cell_type": "code",
   "execution_count": 14,
   "id": "czech-campus",
   "metadata": {
    "scrolled": true
   },
   "outputs": [
    {
     "name": "stderr",
     "output_type": "stream",
     "text": [
      "2022-04-04 19:58:27.016627: I tensorflow/compiler/mlir/mlir_graph_optimization_pass.cc:185] None of the MLIR Optimization Passes are enabled (registered 2)\n"
     ]
    },
    {
     "name": "stdout",
     "output_type": "stream",
     "text": [
      "Epoch 1/10\n",
      "2100/2100 [==============================] - 270s 125ms/step - loss: 0.0303 - accuracy: 0.1896 - val_loss: 0.0059 - val_accuracy: 0.1997\n",
      "Epoch 2/10\n",
      "2100/2100 [==============================] - 251s 120ms/step - loss: 0.0049 - accuracy: 0.1999 - val_loss: 0.0039 - val_accuracy: 0.1999\n",
      "Epoch 3/10\n",
      "2100/2100 [==============================] - 243s 116ms/step - loss: 0.0034 - accuracy: 0.1999 - val_loss: 0.0041 - val_accuracy: 0.1999\n",
      "Epoch 4/10\n",
      "2100/2100 [==============================] - 243s 116ms/step - loss: 0.0026 - accuracy: 0.1999 - val_loss: 0.0036 - val_accuracy: 0.1999\n",
      "Epoch 5/10\n",
      "2100/2100 [==============================] - 249s 119ms/step - loss: 0.0021 - accuracy: 0.2000 - val_loss: 0.0036 - val_accuracy: 0.1999\n",
      "Epoch 6/10\n",
      "2100/2100 [==============================] - 281s 134ms/step - loss: 0.0017 - accuracy: 0.2000 - val_loss: 0.0041 - val_accuracy: 0.2000\n",
      "Epoch 7/10\n",
      "2100/2100 [==============================] - 321s 153ms/step - loss: 0.0014 - accuracy: 0.2000 - val_loss: 0.0042 - val_accuracy: 0.2000\n",
      "Epoch 8/10\n",
      "1667/2100 [======================>.......] - ETA: 56s - loss: 0.0013 - accuracy: 0.2000"
     ]
    }
   ],
   "source": [
    "history = autoencoder.fit(normal_train_data, normal_train_data,\n",
    "                    epochs=nb_epoch,\n",
    "                    batch_size=batch_size,\n",
    "                    shuffle=True,\n",
    "                    validation_data=(test_data, test_data),\n",
    "                    verbose=1\n",
    "                    ).history"
   ]
  },
  {
   "cell_type": "markdown",
   "id": "accredited-chemistry",
   "metadata": {},
   "source": [
    "Plot training and test loss"
   ]
  },
  {
   "cell_type": "code",
   "execution_count": null,
   "id": "extreme-survey",
   "metadata": {},
   "outputs": [
    {
     "data": {
      "image/png": "[encoded data removed]",
      "text/plain": [
       "<Figure size 432x288 with 1 Axes>"
      ]
     },
     "metadata": {
      "needs_background": "light"
     },
     "output_type": "display_data"
    }
   ],
   "source": [
    "plt.plot(history['loss'], linewidth=2, label='Train')\n",
    "plt.plot(history['val_loss'], linewidth=2, label='Validation')\n",
    "plt.legend(loc='upper right')\n",
    "plt.ylabel('Loss')\n",
    "plt.xlabel('Epoch')\n",
    "#plt.ylim(ymin=0.70,ymax=1)\n",
    "plt.show()"
   ]
  },
  {
   "cell_type": "markdown",
   "id": "charitable-television",
   "metadata": {},
   "source": [
    "# Detect Anomalies on test data\n",
    "> Anomalies are data points where the reconstruction loss is higher\n",
    "\n",
    "To calculate the reconstruction loss on test data, predict the test data and calculate the mean square error between the test data and the reconstructed test data."
   ]
  },
  {
   "cell_type": "code",
   "execution_count": 17,
   "id": "afraid-sister",
   "metadata": {},
   "outputs": [],
   "source": [
    "test_x_predictions = autoencoder.predict(test_data)\n",
    "mse = np.mean(np.power(test_data - test_x_predictions, 2), axis=1)\n",
    "error_df = pd.DataFrame({'Reconstruction_error': mse,\n",
    "                        'True_class': test_labels})"
   ]
  },
  {
   "cell_type": "code",
   "execution_count": 16,
   "id": "03aba7e8",
   "metadata": {},
   "outputs": [],
   "source": [
    "test_x_predictions = autoencoder.predict(test_data)\n",
    "squared_error = np.power(test_data - test_x_predictions, 2)**0.5\n",
    "\n",
    "squared_error = squared_error.reshape((squared_error.shape[0] * squared_error.shape[1]))\n",
    "\n",
    "error_labels = []\n",
    "\n",
    "for label in test_labels:\n",
    "    \n",
    "    if label == 0:\n",
    "        for i in range(10): error_labels.append(0)\n",
    "    \n",
    "    if label == 1:\n",
    "        for i in range(9): error_labels.append(0)\n",
    "        error_labels.append(1)\n",
    "\n",
    "\n",
    "error_df = pd.DataFrame({'Reconstruction_error': squared_error,\n",
    "                        'True_class': error_labels})"
   ]
  },
  {
   "cell_type": "markdown",
   "id": "eleven-slope",
   "metadata": {},
   "source": [
    "Plotting the test data points and their respective reconstruction error sets a threshold value to visualize if the threshold value needs to be adjusted."
   ]
  },
  {
   "cell_type": "code",
   "execution_count": 18,
   "id": "appreciated-chance",
   "metadata": {},
   "outputs": [
    {
     "data": {
      "image/png": "[encoded data removed]",
      "text/plain": [
       "<Figure size 432x288 with 1 Axes>"
      ]
     },
     "metadata": {
      "needs_background": "light"
     },
     "output_type": "display_data"
    }
   ],
   "source": [
    "threshold_fixed = 0.02\n",
    "groups = error_df.groupby('True_class')\n",
    "fig, ax = plt.subplots()\n",
    "for name, group in groups:\n",
    "    ax.plot(group.index, group.Reconstruction_error, marker='o', ms=3.5, linestyle='',\n",
    "            label= \"Anomaly\" if name == 1 else \"Normal\")\n",
    "ax.hlines(threshold_fixed, ax.get_xlim()[0], ax.get_xlim()[1], colors=\"r\", zorder=100, label='Threshold')\n",
    "ax.legend()\n",
    "plt.title(\"Reconstruction error for normal and fraud data\")\n",
    "plt.ylabel(\"Reconstruction error\")\n",
    "plt.xlabel(\"Data point index\")\n",
    "plt.show()"
   ]
  },
  {
   "cell_type": "markdown",
   "id": "piano-equation",
   "metadata": {},
   "source": [
    "Detect anomalies as points where the reconstruction loss is greater than a fixed threshold. Here we see that a value of 52 for the threshold will be good.\n",
    "### Evaluating the performance of the anomaly detection"
   ]
  },
  {
   "cell_type": "code",
   "execution_count": 22,
   "id": "received-consent",
   "metadata": {},
   "outputs": [
    {
     "data": {
      "image/png": "[encoded data removed]",
      "text/plain": [
       "<Figure size 288x288 with 2 Axes>"
      ]
     },
     "metadata": {
      "needs_background": "light"
     },
     "output_type": "display_data"
    },
    {
     "name": "stdout",
     "output_type": "stream",
     "text": [
      " Accuracy:  0.9953126645834065\n",
      " Recall:  0.33980582524271846\n",
      " Precision:  0.14957264957264957\n"
     ]
    }
   ],
   "source": [
    "threshold_fixed =0.0003\n",
    "pred_y = [1 if e > threshold_fixed else 0 for e in error_df.Reconstruction_error.values]\n",
    "error_df['pred'] =pred_y\n",
    "conf_matrix = confusion_matrix(error_df.True_class, pred_y)\n",
    "plt.figure(figsize=(4, 4))\n",
    "sns.heatmap(conf_matrix, xticklabels=LABELS, yticklabels=LABELS, annot=True, fmt=\"d\");\n",
    "plt.title(\"Confusion matrix\")\n",
    "plt.ylabel('True class')\n",
    "plt.xlabel('Predicted class')\n",
    "plt.show()\n",
    "# print Accuracy, precision and recall\n",
    "print(\" Accuracy: \",accuracy_score(error_df['True_class'], error_df['pred']))\n",
    "print(\" Recall: \",recall_score(error_df['True_class'], error_df['pred']))\n",
    "print(\" Precision: \",precision_score(error_df['True_class'], error_df['pred']))"
   ]
  },
  {
   "cell_type": "markdown",
   "id": "accepting-crest",
   "metadata": {},
   "source": [
    "As our dataset is highly imbalanced, we see a high accuracy but a low recall and precision.\n",
    "Things to further improve precision and recall would add more relevant features, different architecture for autoencoder, different hyperparameters, or a different algorithm.\n",
    "# Conclusion:\n",
    "Autoencoder can be used as an anomaly detection algorithm when we have an unbalanced dataset where we have a lot of good examples and only a few anomalies. Autoencoders are trained to minimize reconstruction error. When we train the autoencoders on normal data or good data, we can hypothesize that the anomalies will have higher reconstruction errors than the good or normal data."
   ]
  },
  {
   "cell_type": "code",
   "execution_count": 2,
   "id": "informational-criticism",
   "metadata": {},
   "outputs": [
    {
     "data": {
      "text/plain": [
       "['../data_base/data__test_size__0.3__n_it__3__.pkl',\n",
       " '../data_base/data__test_size__0.3__n_it__11__.pkl',\n",
       " '../data_base/data__test_size__0.3__n_it__28__.pkl',\n",
       " '../data_base/data__test_size__0.3__n_it__20__.pkl',\n",
       " '../data_base/data__test_size__0.3__n_it__12__.pkl',\n",
       " '../data_base/data__test_size__0.3__n_it__15__.pkl',\n",
       " '../data_base/data__test_size__0.3__n_it__8__.pkl',\n",
       " '../data_base/data__test_size__0.3__n_it__22__.pkl',\n",
       " '../data_base/data__test_size__0.3__n_it__0__.pkl',\n",
       " '../data_base/data__test_size__0.3__n_it__24__.pkl',\n",
       " '../data_base/data__test_size__0.3__n_it__27__.pkl',\n",
       " '../data_base/data__test_size__0.3__n_it__31__.pkl',\n",
       " '../data_base/data__test_size__0.3__n_it__29__.pkl',\n",
       " '../data_base/data__test_size__0.3__n_it__19__.pkl',\n",
       " '../data_base/data__test_size__0.3__n_it__25__.pkl',\n",
       " '../data_base/data__test_size__0.3__n_it__2__.pkl',\n",
       " '../data_base/data__test_size__0.3__n_it__21__.pkl',\n",
       " '../data_base/data__test_size__0.3__n_it__13__.pkl',\n",
       " '../data_base/data__test_size__0.3__n_it__7__.pkl',\n",
       " '../data_base/data__test_size__0.3__n_it__9__.pkl',\n",
       " '../data_base/data__test_size__0.3__n_it__23__.pkl',\n",
       " '../data_base/data__test_size__0.3__n_it__30__.pkl',\n",
       " '../data_base/data__test_size__0.3__n_it__10__.pkl',\n",
       " '../data_base/data__test_size__0.3__n_it__26__.pkl',\n",
       " '../data_base/data__test_size__0.3__n_it__14__.pkl',\n",
       " '../data_base/data__test_size__0.3__n_it__4__.pkl',\n",
       " '../data_base/data__test_size__0.3__n_it__17__.pkl',\n",
       " '../data_base/data__test_size__0.3__n_it__16__.pkl',\n",
       " '../data_base/data__test_size__0.3__n_it__32__.pkl',\n",
       " '../data_base/data__test_size__0.3__n_it__6__.pkl',\n",
       " '../data_base/data__test_size__0.3__n_it__1__.pkl',\n",
       " '../data_base/data__test_size__0.3__n_it__18__.pkl',\n",
       " '../data_base/data__test_size__0.3__n_it__5__.pkl']"
      ]
     },
     "execution_count": 2,
     "metadata": {},
     "output_type": "execute_result"
    }
   ],
   "source": [
    "import glob\n",
    "# define the paths into the container\n",
    "data_path  = '../data_base/*'\n",
    "\n",
    "files = glob.glob(data_path)\n",
    "files"
   ]
  },
  {
   "cell_type": "code",
   "execution_count": null,
   "id": "a6f2ff04",
   "metadata": {},
   "outputs": [],
   "source": []
  }
 ],
 "metadata": {
  "kernelspec": {
   "display_name": "Python 3",
   "language": "python",
   "name": "python3"
  },
  "language_info": {
   "codemirror_mode": {
    "name": "ipython",
    "version": 3
   },
   "file_extension": ".py",
   "mimetype": "text/x-python",
   "name": "python",
   "nbconvert_exporter": "python",
   "pygments_lexer": "ipython3",
   "version": "3.7.12"
  }
 },
 "nbformat": 4,
 "nbformat_minor": 5
}
