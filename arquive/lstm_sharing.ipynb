{
 "cells": [
  {
   "cell_type": "code",
   "execution_count": 1,
   "metadata": {},
   "outputs": [],
   "source": [
    "# let's try to run LSTM on RSRP values from ns-3 dual strip simulation\n",
    "\n",
    "import numpy as np\n",
    "import pandas as pd\n",
    "from keras.models import Sequential\n",
    "from keras.layers import Dense, Dropout, LSTM\n",
    "from sklearn.preprocessing import MinMaxScaler\n",
    "import matplotlib.pyplot as plt\n",
    "from sklearn.metrics import mean_absolute_error\n",
    "from sklearn.model_selection import train_test_split\n"
   ]
  },
  {
   "cell_type": "code",
   "execution_count": 3,
   "metadata": {},
   "outputs": [
    {
     "data": {
      "text/plain": [
       "(195970, 8)"
      ]
     },
     "execution_count": 3,
     "metadata": {},
     "output_type": "execute_result"
    }
   ],
   "source": [
    "# First, read and prepare RSRP data\n",
    "file = 'DlRsrpSinrStats_hom-0_ttt-64.txt'\n",
    "h = open(file, 'r')\n",
    "hlines = h.readlines()\n",
    "\n",
    "base = []\n",
    "for line in hlines:\n",
    "    base.append(line.split())\n",
    "\n",
    "# Organize data frame\n",
    "base = pd.DataFrame(base)\n",
    "\n",
    "base.shape"
   ]
  },
  {
   "cell_type": "code",
   "execution_count": 4,
   "metadata": {},
   "outputs": [
    {
     "data": {
      "text/plain": [
       "(195969, 4)"
      ]
     },
     "execution_count": 4,
     "metadata": {},
     "output_type": "execute_result"
    }
   ],
   "source": [
    "# transform RSRP from linear to dB\n",
    "\n",
    "base.drop(columns=[1, 3, 6, 7], inplace=True)\n",
    "\n",
    "base.columns=['time', 'IMSI', 'rsrp', 'sinr']\n",
    "\n",
    "base = base.iloc[1:]\n",
    "\n",
    "base['rsrp'] = np.log10(base['rsrp'].values.astype(float))*10\n",
    "\n",
    "base.shape"
   ]
  },
  {
   "cell_type": "code",
   "execution_count": 5,
   "metadata": {},
   "outputs": [
    {
     "data": {
      "text/plain": [
       "(9800, 1)"
      ]
     },
     "execution_count": 5,
     "metadata": {},
     "output_type": "execute_result"
    }
   ],
   "source": [
    "# get only RSRP values from 1 UE as time series\n",
    "myrsrp = []\n",
    "myrsrp = base.loc[base['IMSI'].astype(int)==12, 'rsrp']\n",
    "myrsrp.reset_index(drop=True, inplace=True)\n",
    "myrsrp = pd.DataFrame(myrsrp).values\n",
    "\n",
    "myrsrp.shape"
   ]
  },
  {
   "cell_type": "code",
   "execution_count": 7,
   "metadata": {},
   "outputs": [],
   "source": [
    "# train and test split \n",
    "\n",
    "rsrptrain, rsrptest = train_test_split(\n",
    "    myrsrp, test_size=0.7, random_state=42\n",
    "    )"
   ]
  },
  {
   "cell_type": "code",
   "execution_count": 8,
   "metadata": {},
   "outputs": [
    {
     "name": "stdout",
     "output_type": "stream",
     "text": [
      "prev.shape (2840, 100)\n",
      "real_rsrp.shape (2840,)\n",
      "reshape..\n",
      "prev.shape (2840, 100, 1)\n"
     ]
    }
   ],
   "source": [
    "# Training phase\n",
    "# initialing variables\n",
    "\n",
    "prev = []\n",
    "real_rsrp = []\n",
    "\n",
    "# filling for 100-sample prediction\n",
    "for i in range(100, rsrptrain.size):\n",
    "    prev.append(rsrptrain[i-100:i, 0])\n",
    "    real_rsrp.append(rsrptrain[i, 0])\n",
    "\n",
    "# adapting formats (only 1 dimension)\n",
    "prev, real_rsrp = np.array(prev), np.array(real_rsrp)\n",
    "\n",
    "print('prev.shape',prev.shape)\n",
    "print('real_rsrp.shape',real_rsrp.shape)\n",
    "print(\"reshape..\")\n",
    "\n",
    "prev = np.reshape(prev, (prev.shape[0], prev.shape[1], 1))\n",
    "print('prev.shape',prev.shape)\n"
   ]
  },
  {
   "cell_type": "code",
   "execution_count": 9,
   "metadata": {},
   "outputs": [
    {
     "name": "stdout",
     "output_type": "stream",
     "text": [
      "Model: \"sequential_1\"\n",
      "_________________________________________________________________\n",
      "Layer (type)                 Output Shape              Param #   \n",
      "=================================================================\n",
      "lstm (LSTM)                  (None, 100, 120)          58560     \n",
      "_________________________________________________________________\n",
      "dropout (Dropout)            (None, 100, 120)          0         \n",
      "_________________________________________________________________\n",
      "lstm_1 (LSTM)                (None, 100, 50)           34200     \n",
      "_________________________________________________________________\n",
      "dropout_1 (Dropout)          (None, 100, 50)           0         \n",
      "_________________________________________________________________\n",
      "lstm_2 (LSTM)                (None, 100, 50)           20200     \n",
      "_________________________________________________________________\n",
      "dropout_2 (Dropout)          (None, 100, 50)           0         \n",
      "_________________________________________________________________\n",
      "lstm_3 (LSTM)                (None, 50)                20200     \n",
      "_________________________________________________________________\n",
      "dropout_3 (Dropout)          (None, 50)                0         \n",
      "_________________________________________________________________\n",
      "dense (Dense)                (None, 1)                 51        \n",
      "=================================================================\n",
      "Total params: 133,211\n",
      "Trainable params: 133,211\n",
      "Non-trainable params: 0\n",
      "_________________________________________________________________\n"
     ]
    }
   ],
   "source": [
    "# starting regressor\n",
    "regressor = Sequential()\n",
    "regressor.add(LSTM(units = 120, return_sequences = True, input_shape = (prev.shape[1], 1)))\n",
    "\n",
    "# using dropout to avoid overfitting\n",
    "regressor.add(Dropout(0.3))\n",
    "\n",
    "# more layers\n",
    "regressor.add(LSTM(units = 50, return_sequences = True))\n",
    "regressor.add(Dropout(0.3))\n",
    "\n",
    "# more layers\n",
    "regressor.add(LSTM(units = 50, return_sequences = True))\n",
    "regressor.add(Dropout(0.3))\n",
    "\n",
    "# more layers\n",
    "regressor.add(LSTM(units = 50))\n",
    "regressor.add(Dropout(0.3))\n",
    "\n",
    "# final layer\n",
    "regressor.add(Dense(units = 1, activation = 'linear'))\n",
    "\n",
    "regressor.summary()"
   ]
  },
  {
   "cell_type": "code",
   "execution_count": null,
   "metadata": {},
   "outputs": [],
   "source": [
    "\n",
    "# compiling\n",
    "regressor.compile(optimizer = 'rmsprop', loss = 'mean_squared_error', metrics = ['mean_absolute_error'])\n",
    "regressor.fit(prev, real_rsrp, epochs = 25, batch_size = 32)\n",
    "\n",
    "# testing phase\n",
    "# preparing inputs for test\n",
    "inputs = myrsrp_norm[len(myrsrp_norm) - len(rsrptest) - 100:]\n",
    "inputs = inputs.reshape(-1, 1)\n",
    "\n",
    "# loop for filling variable\n",
    "x_test = []\n",
    "for i in range (100, inputs.size):\n",
    "    x_test.append(inputs[i-100:i, 0])\n",
    "\n",
    "# format adapting\n",
    "x_test = np.array(x_test)\n",
    "x_test = np.reshape(x_test, (x_test.shape[0], x_test.shape[1], 1))\n",
    "\n",
    "prediction = regressor.predict(x_test)\n",
    "\n",
    "# undo normalization for better viewing our results\n",
    "prediction = scaler.inverse_transform(prediction)\n",
    "\n",
    "# get real RSRP test values to plot and compare\n",
    "real_rsrp_test = myrsrp[8821:9800, :]\n",
    "mae = mean_absolute_error(real_rsrp_test, prediction)\n",
    "\n",
    "# visualization\n",
    "plt.plot(real_rsrp_test, color = 'red', label = 'Real RSRP')\n",
    "plt.plot(prediction, color = 'blue', label = 'Prediction')\n",
    "plt.title('RSRP values prediction')\n",
    "plt.xlabel('Time (samples)')\n",
    "plt.ylabel('RSRP (dB)')\n",
    "plt.legend()\n",
    "plt.grid()\n",
    "plt.show()"
   ]
  },
  {
   "cell_type": "code",
   "execution_count": null,
   "metadata": {},
   "outputs": [],
   "source": []
  }
 ],
 "metadata": {
  "interpreter": {
   "hash": "7f9569f1cf38496a20bb63a812204f6e6a0e56470429a70e95e636c231b9bbf1"
  },
  "kernelspec": {
   "display_name": "Python 3.9.7 ('base')",
   "language": "python",
   "name": "python3"
  },
  "language_info": {
   "codemirror_mode": {
    "name": "ipython",
    "version": 3
   },
   "file_extension": ".py",
   "mimetype": "text/x-python",
   "name": "python",
   "nbconvert_exporter": "python",
   "pygments_lexer": "ipython3",
   "version": "3.7.12"
  },
  "orig_nbformat": 4
 },
 "nbformat": 4,
 "nbformat_minor": 2
}
